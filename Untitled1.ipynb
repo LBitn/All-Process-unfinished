{
 "cells": [
  {
   "cell_type": "code",
   "execution_count": 1,
   "id": "d0a440a3",
   "metadata": {},
   "outputs": [],
   "source": [
    "# ~~ ~ ~~ ~ ~~ ~ ~~ ~ ~~ ~ ~~ ~ ~~ ~ ~~ ~ paquetes ~~ ~ ~~ ~ ~~ ~ ~~ ~ ~~ ~ ~~ ~ ~~ ~ ~~ ~~ #\n",
    "using Suppressor\n",
    "using JLD\n",
    "@suppress begin\n",
    "    PATHFunctions = \"/home/isabel/Dropbox/git-repos/All-Process\";\n",
    "    push!( LOAD_PATH, PATHFunctions );\n",
    "    using F2023\n",
    "end\n",
    "# ~ ~~ ~ ~~ ~ ~~ ~ ~~ ~ ~~ ~ ~~ ~ ~~ ~ ~~ ~ ~~ ~ ~~ ~ ~~ ~ ~~ ~ ~~ ~ ~~ ~ ~~ ~ ~~ ~ ~~ ~ ~~ #\n",
    "\n",
    "# ~ ~~ ~ ~~ ~ ~~ ~ ~~ ~ ~~ ~ ~~ ~ ~~ ~ ~~ ~ ~~ ~ ~~ ~ ~~ ~ ~~ ~ ~~ ~ ~~ ~ ~~ ~ ~~ ~ ~~ ~ ~~ #\n",
    "FILEBRW = \"/run/media/isabel/Data/Hipocampo/Espontanea/01-06-2022/BRWs/Phase_10.brw\";\n",
    "FILEVARS = FindContent( \"Variables.jld\", FILEBRW );\n",
    "PATHANALITICS = joinpath( dirname( FindContent( \"Info\", FILEBRW )[ 1 ] ), \"Analitics\" );\n",
    "PATHDISCARDED = joinpath( PATHANALITICS, \"Discarded\" );\n",
    "\n",
    "# ~ ~~ ~ ~~ ~ ~~ ~ ~~ ~ ~~ ~ ~~ ~ ~~ ~ ~~ ~ ~~ ~ ~~ ~ ~~ ~ ~~ ~ ~~ ~ ~~ ~ ~~ ~ ~~ ~ ~~ ~ ~~ #\n",
    "FILESVOLTAGE = FindContent( \"Voltage\", FILEBRW );\n",
    "Variables = LoadDict( FILEVARS );\n",
    "Σ = length( FILESVOLTAGE );\n",
    "# ~ ~~ ~ ~~ ~ ~~ ~ ~~ ~ ~~ ~ ~~ ~ ~~ ~ ~~ ~ ~~ ~ ~~ ~ ~~ ~ ~~ ~ ~~ ~ ~~ ~ ~~ ~ ~~ ~ ~~ ~ ~~ #"
   ]
  },
  {
   "cell_type": "code",
   "execution_count": 2,
   "id": "adcf4eb5",
   "metadata": {},
   "outputs": [],
   "source": [
    "# ~ ~~ ~ ~~ ~ ~~ ~ ~~ ~ ~~ ~ ~~ ~ ~~ ~ ~~ ~ ~~ ~ ~~ ~ ~~ ~ ~~ ~ ~~ ~ ~~ ~ ~~ ~ ~~ ~ ~~ ~ ~~ #\n",
    "σ = 16\n",
    "# ~ ~~ ~ ~~ ~ ~~ ~ ~~ ~ ~~ ~ ~~ ~ ~~ ~ ~~ ~ ~~ ~ ~~ ~ ~~ ~ ~~ ~ ~~ ~ ~~ ~ ~~ ~ ~~ ~ ~~ ~ ~~ #\n",
    "FILERAW = FILESVOLTAGE[ σ ];\n",
    "BINNAME = basename( FILERAW );\n",
    "# ~ ~~ ~ ~~ ~ ~~ ~ ~~ ~ ~~ ~ ~~ ~ ~~ ~ ~~ ~ ~~ ~ ~~ ~ ~~ ~ ~~ ~ ~~ ~ ~~ ~ ~~ ~ ~~ ~ ~~ ~ ~~ #\n",
    "BINRAW = Float64.( LoadDict( FILERAW ) );\n",
    "# ~ ~~ ~ ~~ ~ ~~ ~ ~~ ~ ~~ ~ ~~ ~ ~~ ~ ~~ ~ ~~ ~ ~~ ~ ~~ ~ ~~ ~ ~~ ~ ~~ ~ ~~ ~ ~~ ~ ~~ ~ ~~ #"
   ]
  },
  {
   "cell_type": "code",
   "execution_count": 3,
   "id": "1ed8f0cc",
   "metadata": {},
   "outputs": [],
   "source": [
    "# ~ ~~ ~ ~~ ~ ~~ ~ ~~ ~ ~~ ~ ~~ ~ ~~ ~ ~~ ~ ~~ ~ ~~ ~ ~~ ~ ~~ ~ ~~ ~ ~~ ~ ~~ ~ ~~ ~ ~~ ~ ~~ #\n",
    "# @time CSDA = CSD( BINRAW );\n",
    "# save( \"CSD.jld\", \"Data\", CSDA )\n",
    "# ~ ~~ ~ ~~ ~ ~~ ~ ~~ ~ ~~ ~ ~~ ~ ~~ ~ ~~ ~ ~~ ~ ~~ ~ ~~ ~ ~~ ~ ~~ ~ ~~ ~ ~~ ~ ~~ ~ ~~ ~ ~~ #"
   ]
  },
  {
   "cell_type": "code",
   "execution_count": 4,
   "id": "e209cdd9",
   "metadata": {},
   "outputs": [],
   "source": [
    "CSDA = LoadDict( \"/run/media/isabel/Data/CSD.jld\" );"
   ]
  },
  {
   "cell_type": "code",
   "execution_count": 5,
   "id": "84a0ce1c",
   "metadata": {
    "scrolled": false
   },
   "outputs": [
    {
     "name": "stdout",
     "output_type": "stream",
     "text": [
      "  5.118438 seconds (28.85 M allocations: 6.651 GiB, 14.89% gc time, 21.06% compilation time)\n"
     ]
    }
   ],
   "source": [
    "# ~ ~~ ~ ~~ ~ ~~ ~ ~~ ~ ~~ ~ ~~ ~ ~~ ~ ~~ ~ ~~ ~ ~~ ~ ~~ ~ ~~ ~ ~~ ~ ~~ ~ ~~ ~ ~~ ~ ~~ ~ ~~ #\n",
    "σ = SigmaData( vec( CSDA ) );\n",
    "thr = Donoho( vec( CSDA ) );\n",
    "t0 = 1;\n",
    "tN = size( CSDA, 3 );\n",
    "ϵ = σ*thr;\n",
    "minChans = 3;\n",
    "@time CMN, CMP = CMs( CSDA, t0, tN, ϵ, minChans );\n",
    "# ~ ~~ ~ ~~ ~ ~~ ~ ~~ ~ ~~ ~ ~~ ~ ~~ ~ ~~ ~ ~~ ~ ~~ ~ ~~ ~ ~~ ~ ~~ ~ ~~ ~ ~~ ~ ~~ ~ ~~ ~ ~~ #"
   ]
  },
  {
   "cell_type": "code",
   "execution_count": 6,
   "id": "4fc27691",
   "metadata": {},
   "outputs": [],
   "source": [
    "# ~ ~~ ~ ~~ ~ ~~ ~ ~~ ~ ~~ ~ ~~ ~ ~~ ~ ~~ ~ ~~ ~ ~~ ~ ~~ ~ ~~ ~ ~~ ~ ~~ ~ ~~ ~ ~~ ~ ~~ ~ ~~ #\n",
    "Parameters = Dict(\n",
    "    # for detecting saturations\n",
    "    \"maxvolt\"              => 3000, # μV\n",
    "    \"minvolt\"              => -3000, # μV\n",
    "    # for the neighborhood\n",
    "    \"minchannels\"          => 8, # needed valid channels on the neighborhood\n",
    "    \"maxradius\"            => 4, # maximus radius for the searching neighborhood ( 1 -> 8)\n",
    "    # how much of the channel can we tolerate being saturated before patching it all\n",
    "    \"limite_saturacion\"    => 0.4, # [ 0, 1 ]\n",
    "    \"window\"               => 5, # ms, para la deteccion de eventos\n",
    "    \"bit\"                  => 1, # ms, deslizamiento de la ventana\n",
    "    \"stokes\"               => 0.3, # ms, distancia maxima entre eventos para ser descartados\n",
    "    \"thr\"                  => -50, # μV, umbral estatico\n",
    "    \"ΔT\"                   => 250, # ms, para calcular el cambio de voltaje\n",
    "    \"MUAlF\"                => 290, # Hz, limite inferior de frecuencia para el MUA\n",
    "    \"MUAHF\"                => 5010, # Hz, limite superior de frecuencia para el MUA\n",
    "    \"MUAfac\"               => 10, # Hz, banda de transicion para el MUA\n",
    "    \"LFPlF\"                => 2, # Hz, limite inferior de frecuencia para el LFP\n",
    "    \"LFPHF\"                => 302, # Hz, limite superior de frecuencia para el LFP\n",
    "    \"LFPfac\"               => 2, # Hz, banda de transicion para el LFP\n",
    "    \"SamplingRate\"         => Variables[ \"SamplingRate\" ]\n",
    ");\n",
    "Discarded = LoadDict( \"/run/media/isabel/Data/Hipocampo/Espontanea/01-06-2022/Phase_10/Info/Analitics/Discarded/BIN16.jld\" );\n",
    "Empties = Discarded[ \"Empties\" ];\n",
    "# ~ ~~ ~ ~~ ~ ~~ ~ ~~ ~ ~~ ~ ~~ ~ ~~ ~ ~~ ~ ~~ ~ ~~ ~ ~~ ~ ~~ ~ ~~ ~ ~~ ~ ~~ ~ ~~ ~ ~~ ~ ~~ #"
   ]
  },
  {
   "cell_type": "code",
   "execution_count": 7,
   "id": "626ff165",
   "metadata": {},
   "outputs": [],
   "source": [
    "# ~ ~~ ~ ~~ ~ ~~ ~ ~~ ~ ~~ ~ ~~ ~ ~~ ~ ~~ ~ ~~ ~ ~~ ~ ~~ ~ ~~ ~ ~~ ~ ~~ ~ ~~ ~ ~~ ~ ~~ ~ ~~ #\n",
    "MUAlF = Parameters[ \"MUAlF\" ];\n",
    "MUAHF = Parameters[ \"MUAHF\" ];\n",
    "MUAfac = Parameters[ \"MUAfac\" ];\n",
    "data = round.( MatrixFilter( Parameters, BINRAW, MUAlF, MUAHF, MUAfac, \"BPF\" ), digits = 3 );\n",
    "SpikeIndexes = GetIndexes( Parameters, data, \"Dynamic\", \"Windows\", Empties );\n",
    "# ~ ~~ ~ ~~ ~ ~~ ~ ~~ ~ ~~ ~ ~~ ~ ~~ ~ ~~ ~ ~~ ~ ~~ ~ ~~ ~ ~~ ~ ~~ ~ ~~ ~ ~~ ~ ~~ ~ ~~ ~ ~~ #"
   ]
  },
  {
   "cell_type": "code",
   "execution_count": null,
   "id": "5439e64f",
   "metadata": {},
   "outputs": [],
   "source": []
  },
  {
   "cell_type": "code",
   "execution_count": null,
   "id": "b275281d",
   "metadata": {},
   "outputs": [],
   "source": []
  },
  {
   "cell_type": "code",
   "execution_count": null,
   "id": "06270e62",
   "metadata": {},
   "outputs": [],
   "source": []
  },
  {
   "cell_type": "code",
   "execution_count": null,
   "id": "cddd32a9",
   "metadata": {},
   "outputs": [],
   "source": []
  },
  {
   "cell_type": "code",
   "execution_count": null,
   "id": "46fbc9d6",
   "metadata": {},
   "outputs": [],
   "source": []
  },
  {
   "cell_type": "code",
   "execution_count": null,
   "id": "b196a4b7",
   "metadata": {},
   "outputs": [],
   "source": [
    "# y = ones( size( BINRAW, 2 ) );\n",
    "# S = [ ];\n",
    "# for i = 1:4096\n",
    "#     S = scatter!( \n",
    "#         SpikeIndexes[ i ], y .* i, \n",
    "#         leg = :none, \n",
    "#         m = (:black, :vline ), \n",
    "#         ms = 2,\n",
    "#         wsize = ( 800, 800)\n",
    "#     )\n",
    "# end\n",
    "# savefig( S, \"S.png\" )\n",
    "# plot!( S, xlims = ( 1, 10000 ) )"
   ]
  },
  {
   "cell_type": "code",
   "execution_count": null,
   "id": "e94bc7bf",
   "metadata": {},
   "outputs": [],
   "source": []
  },
  {
   "cell_type": "code",
   "execution_count": null,
   "id": "2f03351e",
   "metadata": {},
   "outputs": [],
   "source": []
  },
  {
   "cell_type": "code",
   "execution_count": null,
   "id": "0b69da91",
   "metadata": {},
   "outputs": [],
   "source": []
  },
  {
   "cell_type": "code",
   "execution_count": null,
   "id": "95aa8041",
   "metadata": {},
   "outputs": [],
   "source": [
    "function encuentraTrayectorias( Datos, toleradist, mincadena=20, mingordo=2.0, desde=1,hasta=20, )\n",
    "    tau=1\n",
    "    t=1\n",
    "    j=1\n",
    "    Catenario=Dict{Integer, Array{Any}}()\n",
    "    Cadena=[0 0 0 0]\n",
    "    tnum=1\n",
    "    CopiaMegaArray=deepcopy(Datos);\n",
    "    NumFrames=length(Datos)\n",
    "    FakeNumFrames=NumFrames\n",
    "    while t <= FakeNumFrames-1\n",
    "        tau=t\n",
    "        @label arrrrh\n",
    "            if(CopiaMegaArray[tau]==[])\n",
    "                jmax,nada=0,0\n",
    "            else\n",
    "         jmax,nada= size(CopiaMegaArray[tau])\n",
    "            end\n",
    "        while j <=jmax && tau<FakeNumFrames\n",
    "                if abs(CopiaMegaArray[tau][j,3]) > mingordo\n",
    "                Eslabon=[transpose(CopiaMegaArray[tau][j,:]) tau]\n",
    "                Cadena=vcat(Cadena, Eslabon)\n",
    "                mindist=2\n",
    "                kasterisco=1\n",
    "                    if CopiaMegaArray[tau+1]==[]\n",
    "                        kmax,nada=0,0\n",
    "                    else\n",
    "                    kmax, nada= size(CopiaMegaArray[tau+1])\n",
    "                    end\n",
    "                    huboalgo=false\n",
    "                for k=1:kmax\n",
    "                    EslabonTentativo=CopiaMegaArray[tau+1][k,:]\n",
    "                        if abs(EslabonTentativo[3])>mingordo\n",
    "                        dist=dist2D(Eslabon,EslabonTentativo)\n",
    "                        if dist<mindist\n",
    "                            mindist=dist\n",
    "                            kasterisco=k\n",
    "                            huboalgo=true\n",
    "                        end\n",
    "                    end\n",
    "                end\n",
    "                if huboalgo && mindist<toleradist\n",
    "                    CopiaMegaArray[tau][j,3]=0.0000\n",
    "                    if tau+1<FakeNumFrames\n",
    "                        tau+=1\n",
    "                        j=kasterisco\n",
    "                        @goto arrrrh\n",
    "                    else\n",
    "                        Eslabon=[transpose(CopiaMegaArray[tau+1][kasterisco,:]) tau+1]\n",
    "                        Cadena=vcat(Cadena, Eslabon)\n",
    "                        j+=1\n",
    "                        tau=t\n",
    "                        if size(Cadena)[1]>mincadena\n",
    "                            Catenario[tnum]=Cadena[2:end,:]\n",
    "                            tnum+=1\n",
    "                        end\n",
    "                        Cadena=[0 0 0 0]\n",
    "                        @goto arrrrh\n",
    "                    end\n",
    "                else\n",
    "                    if size(Cadena)[1]>mincadena\n",
    "                            Catenario[tnum]=Cadena[2:end,:]\n",
    "                            tnum+=1\n",
    "                    end\n",
    "                    Cadena=[0 0 0 0]\n",
    "                    j+=1\n",
    "                    tau=t\n",
    "                    @goto arrrrh\n",
    "                end\n",
    "            end\n",
    "            j+=1\n",
    "            tau=t\n",
    "        end\n",
    "        @label urrr\n",
    "        j=1\n",
    "        t+=1\n",
    "        tau=t\n",
    "        Cadena=[0 0 0 0]\n",
    "    end\n",
    "    return Catenario\n",
    "end"
   ]
  },
  {
   "cell_type": "code",
   "execution_count": null,
   "id": "b4ac2cab",
   "metadata": {},
   "outputs": [],
   "source": [
    "Zplot( RemoveInfs( log.( length.( SpikeIndexes ) ) ),\"W\", :bluesreds )"
   ]
  },
  {
   "cell_type": "code",
   "execution_count": null,
   "id": "45112382",
   "metadata": {},
   "outputs": [],
   "source": []
  },
  {
   "cell_type": "code",
   "execution_count": null,
   "id": "6b63afd1",
   "metadata": {},
   "outputs": [],
   "source": []
  },
  {
   "cell_type": "code",
   "execution_count": null,
   "id": "a503db39",
   "metadata": {},
   "outputs": [],
   "source": []
  },
  {
   "cell_type": "code",
   "execution_count": null,
   "id": "06392685",
   "metadata": {},
   "outputs": [],
   "source": []
  },
  {
   "cell_type": "code",
   "execution_count": null,
   "id": "d65cc10e",
   "metadata": {},
   "outputs": [],
   "source": []
  },
  {
   "cell_type": "code",
   "execution_count": null,
   "id": "d5b4172d",
   "metadata": {},
   "outputs": [],
   "source": []
  },
  {
   "cell_type": "code",
   "execution_count": null,
   "id": "1e1a654c",
   "metadata": {},
   "outputs": [],
   "source": []
  },
  {
   "cell_type": "code",
   "execution_count": null,
   "id": "1fb48681",
   "metadata": {},
   "outputs": [],
   "source": []
  },
  {
   "cell_type": "code",
   "execution_count": null,
   "id": "b358d2a6",
   "metadata": {},
   "outputs": [],
   "source": [
    "# x = -3:3;\n",
    "# y = -3:3;\n",
    "# xv = getindex.(Iterators.product(x, y ), 1)  # first.(Iterators.product(x, y, z), 1) is also ok\n",
    "# yv = getindex.(Iterators.product(x, y ), 2)\n",
    "#= \n",
    "Using a Gaussian Blur filter before edge detection aims to reduce the level of noise in the \n",
    "image, which improves the result of the following edge-detection algorithm. This approach is \n",
    "commonly referred to as Laplacian of Gaussian, or LoG filtering.\n",
    "=#\n",
    "# Gaussian filter kernel (with σ = 0.84089642)"
   ]
  }
 ],
 "metadata": {
  "kernelspec": {
   "display_name": "Julia 1.7.2",
   "language": "julia",
   "name": "julia-1.7"
  },
  "language_info": {
   "file_extension": ".jl",
   "mimetype": "application/julia",
   "name": "julia",
   "version": "1.7.2"
  }
 },
 "nbformat": 4,
 "nbformat_minor": 5
}
