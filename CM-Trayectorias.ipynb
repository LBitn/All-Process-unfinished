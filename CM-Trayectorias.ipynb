{
 "cells": [
  {
   "cell_type": "code",
   "execution_count": 12,
   "id": "42039e20",
   "metadata": {},
   "outputs": [
    {
     "data": {
      "text/plain": [
       "22.627416997969522"
      ]
     },
     "execution_count": 12,
     "metadata": {},
     "output_type": "execute_result"
    }
   ],
   "source": [
    "retms = 0;\n",
    "latms = 0;\n",
    "retraso = 0;\n",
    "lat = 0;\n",
    "desde = 1;\n",
    "pesomin = 5;\n",
    "longmin = 3;\n",
    "toleradist = 16.0 * sqrt( 2 );\n",
    "\n",
    "PATHFunctions = \"/home/isabel/Dropbox/git-repos/All-Process\";\n",
    "push!( LOAD_PATH, PATHFunctions );\n",
    "\n",
    "using JLD\n",
    "using F2023\n",
    "using CSDKIA\n",
    "\n",
    "FILEBRW = \"/run/media/isabel/Data/Hipocampo/Espontanea/01-06-2022/BRWs/Phase_10.brw\";\n",
    "Variables = LoadDict( FindContent( \"Variables.jld\", FILEBRW ) );\n",
    "SamplingRate = Variables[ \"SamplingRate\" ] / 1000;\n",
    "FILESCSD = FindContent( \"CSDAI\", FILEBRW );\n",
    "@time for n = 1:lenght( FILESCSD );\n",
    "    FILECSD = FILESCSD[ n ];\n",
    "    CSD = Float64.( LoadDict( FILECSD ) );\n",
    "    σ = SigmaData( vec( CSD ) );\n",
    "    thr = Donoho( vec( CSD ) );\n",
    "    tmax = size( CSD, 3 );\n",
    "    CMP, CMN = ObtenComponentesyCM( CSD, 1, tmax, σ*thr );\n",
    "    TCP = encuentraTrayectorias( CMP, toleradist, longmin, pesomin, desde, length( CMP ) );\n",
    "    TCN = encuentraTrayectorias( CMN, toleradist, longmin, pesomin, desde, length( CMP ) );\n",
    "    FILENAME = replace( FILECSD, \"CSDAI\" => \"CMTI\" );\n",
    "    save( FILENAME, \"CMP\", CMP, \"CMN\", CMN, \"TCP\", TCP, \"TCN\", TCN );\n",
    "    FIGPLACE = replace( FILENAME, \".jld\" =>\"\"); mkpath( FIGPLACE ); cd( FIGPLACE );\n",
    "    ImagenTrayectoriasPosyNeg( TCP, TCN );\n",
    "    ImagenTraysconCSDA( CSD, TCP, TCN, SamplingRate );\n",
    "    ImagenDeMosaico( CSD, TCP, TCN, SamplingRate );\n",
    "end"
   ]
  }
 ],
 "metadata": {
  "kernelspec": {
   "display_name": "Julia 1.7.2",
   "language": "julia",
   "name": "julia-1.7"
  },
  "language_info": {
   "file_extension": ".jl",
   "mimetype": "application/julia",
   "name": "julia",
   "version": "1.7.2"
  }
 },
 "nbformat": 4,
 "nbformat_minor": 5
}
